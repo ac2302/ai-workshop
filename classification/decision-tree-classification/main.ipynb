{
 "cells": [
  {
   "cell_type": "markdown",
   "metadata": {},
   "source": [
    "# Decision Tree Classification"
   ]
  },
  {
   "cell_type": "markdown",
   "metadata": {},
   "source": [
    "#### importing libraries"
   ]
  },
  {
   "cell_type": "code",
   "execution_count": 124,
   "metadata": {},
   "outputs": [],
   "source": [
    "import pandas as pd\n",
    "import numpy as np\n",
    "import matplotlib.pyplot as plt"
   ]
  },
  {
   "cell_type": "markdown",
   "metadata": {},
   "source": [
    "#### importing dataset\n"
   ]
  },
  {
   "cell_type": "code",
   "execution_count": 125,
   "metadata": {},
   "outputs": [],
   "source": [
    "dataset = pd.read_csv('data.csv')\n",
    "X = dataset.iloc[:, :-1].values\n",
    "y = dataset.iloc[:, -1].values"
   ]
  },
  {
   "cell_type": "markdown",
   "metadata": {},
   "source": [
    "#### test train split"
   ]
  },
  {
   "cell_type": "code",
   "execution_count": 126,
   "metadata": {},
   "outputs": [],
   "source": [
    "from sklearn.model_selection import train_test_split\n",
    "X_train, X_test, y_train, y_test = train_test_split(X, y, test_size=0.2)"
   ]
  },
  {
   "cell_type": "markdown",
   "metadata": {},
   "source": [
    "#### feature scaling"
   ]
  },
  {
   "cell_type": "code",
   "execution_count": 127,
   "metadata": {},
   "outputs": [],
   "source": [
    "from sklearn.preprocessing import StandardScaler\n",
    "sc = StandardScaler()\n",
    "X_train = sc.fit_transform(X_train)\n",
    "X_test = sc.transform(X_test)"
   ]
  },
  {
   "cell_type": "markdown",
   "metadata": {},
   "source": [
    "#### training model"
   ]
  },
  {
   "cell_type": "code",
   "execution_count": 128,
   "metadata": {},
   "outputs": [
    {
     "data": {
      "text/plain": [
       "DecisionTreeClassifier()"
      ]
     },
     "execution_count": 128,
     "metadata": {},
     "output_type": "execute_result"
    }
   ],
   "source": [
    "from sklearn.tree import DecisionTreeClassifier\n",
    "classifier = DecisionTreeClassifier()\n",
    "classifier.fit(X_train, y_train)"
   ]
  },
  {
   "cell_type": "markdown",
   "metadata": {},
   "source": [
    "#### predicting results"
   ]
  },
  {
   "cell_type": "code",
   "execution_count": 129,
   "metadata": {},
   "outputs": [],
   "source": [
    "y_pred = classifier.predict(X_test)"
   ]
  },
  {
   "cell_type": "code",
   "execution_count": 130,
   "metadata": {},
   "outputs": [
    {
     "data": {
      "text/plain": [
       "[(7, 8),\n",
       " (7, 7),\n",
       " (5, 6),\n",
       " (5, 6),\n",
       " (5, 5),\n",
       " (6, 6),\n",
       " (5, 5),\n",
       " (5, 5),\n",
       " (6, 6),\n",
       " (6, 6),\n",
       " (6, 7),\n",
       " (6, 5),\n",
       " (5, 5),\n",
       " (5, 7),\n",
       " (6, 5),\n",
       " (7, 7),\n",
       " (5, 5),\n",
       " (6, 6),\n",
       " (6, 5),\n",
       " (5, 5),\n",
       " (6, 8),\n",
       " (5, 5),\n",
       " (6, 6),\n",
       " (6, 6),\n",
       " (6, 4),\n",
       " (5, 5),\n",
       " (5, 6),\n",
       " (7, 5),\n",
       " (5, 5),\n",
       " (6, 5),\n",
       " (5, 6),\n",
       " (5, 3),\n",
       " (6, 5),\n",
       " (5, 6),\n",
       " (5, 5),\n",
       " (5, 8),\n",
       " (5, 5),\n",
       " (5, 5),\n",
       " (5, 5),\n",
       " (6, 6),\n",
       " (5, 5),\n",
       " (6, 7),\n",
       " (5, 6),\n",
       " (6, 5),\n",
       " (7, 6),\n",
       " (7, 4),\n",
       " (6, 5),\n",
       " (5, 5),\n",
       " (7, 6),\n",
       " (7, 7),\n",
       " (7, 7),\n",
       " (5, 5),\n",
       " (7, 6),\n",
       " (6, 6),\n",
       " (6, 6),\n",
       " (5, 5),\n",
       " (5, 5),\n",
       " (5, 5),\n",
       " (6, 6),\n",
       " (6, 6),\n",
       " (6, 5),\n",
       " (6, 6),\n",
       " (5, 5),\n",
       " (6, 5),\n",
       " (5, 6),\n",
       " (6, 6),\n",
       " (5, 5),\n",
       " (5, 4),\n",
       " (6, 6),\n",
       " (6, 6),\n",
       " (6, 4),\n",
       " (5, 5),\n",
       " (5, 6),\n",
       " (5, 5),\n",
       " (6, 5),\n",
       " (6, 6),\n",
       " (5, 7),\n",
       " (6, 5),\n",
       " (5, 5),\n",
       " (6, 6),\n",
       " (7, 7),\n",
       " (6, 6),\n",
       " (6, 6),\n",
       " (5, 5),\n",
       " (5, 5),\n",
       " (5, 5),\n",
       " (6, 6),\n",
       " (5, 5),\n",
       " (7, 8),\n",
       " (6, 6),\n",
       " (6, 7),\n",
       " (6, 6),\n",
       " (5, 5),\n",
       " (6, 6),\n",
       " (6, 6),\n",
       " (5, 5),\n",
       " (5, 5),\n",
       " (6, 6),\n",
       " (5, 6),\n",
       " (5, 5),\n",
       " (6, 5),\n",
       " (6, 7),\n",
       " (6, 7),\n",
       " (6, 5),\n",
       " (7, 7),\n",
       " (5, 5),\n",
       " (6, 5),\n",
       " (6, 6),\n",
       " (5, 5),\n",
       " (7, 7),\n",
       " (6, 5),\n",
       " (6, 7),\n",
       " (6, 6),\n",
       " (6, 6),\n",
       " (5, 4),\n",
       " (6, 6),\n",
       " (7, 7),\n",
       " (6, 6),\n",
       " (5, 5),\n",
       " (6, 5),\n",
       " (5, 6),\n",
       " (7, 6),\n",
       " (5, 6),\n",
       " (6, 6),\n",
       " (6, 6),\n",
       " (5, 7),\n",
       " (6, 6),\n",
       " (6, 6),\n",
       " (4, 4),\n",
       " (5, 5),\n",
       " (7, 7),\n",
       " (6, 6),\n",
       " (6, 8),\n",
       " (5, 6),\n",
       " (6, 5),\n",
       " (6, 6),\n",
       " (5, 7),\n",
       " (6, 6),\n",
       " (5, 5),\n",
       " (5, 5),\n",
       " (6, 6),\n",
       " (5, 5),\n",
       " (5, 5),\n",
       " (6, 5),\n",
       " (4, 6),\n",
       " (6, 6),\n",
       " (7, 6),\n",
       " (6, 6),\n",
       " (5, 5),\n",
       " (6, 7),\n",
       " (7, 7),\n",
       " (5, 6),\n",
       " (6, 4),\n",
       " (6, 7),\n",
       " (6, 6),\n",
       " (5, 5),\n",
       " (6, 6),\n",
       " (6, 6),\n",
       " (6, 5),\n",
       " (5, 4),\n",
       " (5, 6),\n",
       " (6, 6),\n",
       " (5, 6),\n",
       " (5, 5),\n",
       " (5, 5),\n",
       " (6, 7),\n",
       " (5, 6),\n",
       " (5, 6),\n",
       " (5, 5),\n",
       " (6, 5),\n",
       " (5, 5),\n",
       " (7, 7),\n",
       " (6, 6),\n",
       " (6, 4),\n",
       " (5, 6),\n",
       " (6, 6),\n",
       " (5, 6),\n",
       " (5, 6),\n",
       " (5, 5),\n",
       " (6, 6),\n",
       " (6, 6),\n",
       " (5, 5),\n",
       " (5, 5),\n",
       " (5, 6),\n",
       " (6, 7),\n",
       " (5, 5),\n",
       " (6, 6),\n",
       " (5, 5),\n",
       " (6, 6),\n",
       " (5, 5),\n",
       " (7, 7),\n",
       " (5, 5),\n",
       " (6, 5),\n",
       " (7, 7),\n",
       " (6, 6),\n",
       " (5, 6),\n",
       " (6, 6),\n",
       " (6, 6),\n",
       " (5, 5),\n",
       " (5, 6),\n",
       " (5, 5),\n",
       " (7, 7),\n",
       " (5, 5),\n",
       " (4, 4),\n",
       " (6, 6),\n",
       " (6, 5),\n",
       " (5, 6),\n",
       " (5, 5),\n",
       " (5, 6),\n",
       " (5, 7),\n",
       " (6, 5),\n",
       " (5, 5),\n",
       " (7, 7),\n",
       " (6, 6),\n",
       " (5, 5),\n",
       " (5, 5),\n",
       " (5, 6),\n",
       " (5, 5),\n",
       " (5, 5),\n",
       " (5, 5),\n",
       " (5, 5),\n",
       " (6, 6),\n",
       " (5, 5),\n",
       " (5, 5),\n",
       " (6, 4),\n",
       " (6, 6),\n",
       " (5, 5),\n",
       " (5, 5),\n",
       " (6, 6),\n",
       " (5, 5),\n",
       " (5, 6),\n",
       " (5, 5),\n",
       " (6, 6),\n",
       " (7, 6),\n",
       " (5, 5),\n",
       " (6, 5),\n",
       " (5, 6),\n",
       " (5, 5),\n",
       " (5, 6),\n",
       " (6, 6),\n",
       " (6, 6),\n",
       " (4, 7),\n",
       " (5, 5),\n",
       " (5, 5),\n",
       " (5, 6),\n",
       " (5, 5),\n",
       " (7, 6),\n",
       " (5, 5),\n",
       " (5, 5),\n",
       " (5, 5),\n",
       " (7, 6),\n",
       " (7, 7),\n",
       " (5, 5),\n",
       " (5, 5),\n",
       " (5, 5),\n",
       " (6, 4),\n",
       " (6, 5),\n",
       " (5, 6),\n",
       " (7, 7),\n",
       " (5, 5),\n",
       " (7, 7),\n",
       " (3, 4),\n",
       " (6, 5),\n",
       " (6, 6),\n",
       " (6, 6),\n",
       " (6, 5),\n",
       " (4, 5),\n",
       " (6, 6),\n",
       " (5, 4),\n",
       " (4, 6),\n",
       " (6, 6),\n",
       " (5, 5),\n",
       " (5, 5),\n",
       " (6, 6),\n",
       " (6, 6),\n",
       " (3, 6),\n",
       " (5, 5),\n",
       " (7, 7),\n",
       " (5, 6),\n",
       " (6, 6),\n",
       " (6, 6),\n",
       " (5, 5),\n",
       " (6, 5),\n",
       " (6, 6),\n",
       " (6, 5),\n",
       " (5, 5),\n",
       " (4, 5),\n",
       " (5, 5),\n",
       " (4, 6),\n",
       " (7, 7),\n",
       " (6, 6),\n",
       " (6, 6),\n",
       " (7, 7),\n",
       " (6, 5),\n",
       " (7, 7),\n",
       " (5, 4),\n",
       " (6, 6),\n",
       " (6, 6),\n",
       " (6, 6),\n",
       " (6, 7),\n",
       " (5, 5),\n",
       " (7, 7),\n",
       " (6, 6),\n",
       " (5, 5),\n",
       " (5, 5),\n",
       " (5, 5),\n",
       " (5, 6),\n",
       " (6, 6),\n",
       " (5, 6),\n",
       " (6, 5),\n",
       " (4, 4),\n",
       " (3, 4),\n",
       " (6, 6),\n",
       " (6, 7),\n",
       " (4, 6),\n",
       " (7, 7),\n",
       " (6, 5),\n",
       " (5, 6),\n",
       " (6, 6),\n",
       " (5, 5)]"
      ]
     },
     "execution_count": 130,
     "metadata": {},
     "output_type": "execute_result"
    }
   ],
   "source": [
    "[(y_test[i], y_pred[i]) for i in range(len(y_test))]"
   ]
  },
  {
   "cell_type": "code",
   "execution_count": 131,
   "metadata": {},
   "outputs": [
    {
     "data": {
      "text/plain": [
       "0.621875"
      ]
     },
     "execution_count": 131,
     "metadata": {},
     "output_type": "execute_result"
    }
   ],
   "source": [
    "from sklearn.metrics import accuracy_score\n",
    "accuracy_score(y_test, y_pred)"
   ]
  },
  {
   "cell_type": "code",
   "execution_count": 132,
   "metadata": {},
   "outputs": [
    {
     "data": {
      "text/plain": [
       "1.0"
      ]
     },
     "execution_count": 132,
     "metadata": {},
     "output_type": "execute_result"
    }
   ],
   "source": [
    "accuracy_score(y_train, classifier.predict(X_train))"
   ]
  }
 ],
 "metadata": {
  "interpreter": {
   "hash": "e7370f93d1d0cde622a1f8e1c04877d8463912d04d973331ad4851f04de6915a"
  },
  "kernelspec": {
   "display_name": "Python 3.10.1 64-bit",
   "language": "python",
   "name": "python3"
  },
  "language_info": {
   "codemirror_mode": {
    "name": "ipython",
    "version": 3
   },
   "file_extension": ".py",
   "mimetype": "text/x-python",
   "name": "python",
   "nbconvert_exporter": "python",
   "pygments_lexer": "ipython3",
   "version": "3.10.1"
  },
  "orig_nbformat": 4
 },
 "nbformat": 4,
 "nbformat_minor": 2
}
